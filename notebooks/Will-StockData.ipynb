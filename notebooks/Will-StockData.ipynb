{
 "cells": [
  {
   "cell_type": "code",
   "execution_count": 7,
   "metadata": {},
   "outputs": [],
   "source": [
    "import numpy as np\n",
    "import pandas as pd\n",
    "import datetime\n",
    "from iexfinance.stocks import get_historical_data\n",
    "from iexfinance.refdata import get_symbols\n",
    "import matplotlib.pyplot as plt\n",
    "%matplotlib inline"
   ]
  },
  {
   "cell_type": "code",
   "execution_count": 38,
   "metadata": {},
   "outputs": [
    {
     "data": {
      "text/html": [
       "<div>\n",
       "<style scoped>\n",
       "    .dataframe tbody tr th:only-of-type {\n",
       "        vertical-align: middle;\n",
       "    }\n",
       "\n",
       "    .dataframe tbody tr th {\n",
       "        vertical-align: top;\n",
       "    }\n",
       "\n",
       "    .dataframe thead th {\n",
       "        text-align: right;\n",
       "    }\n",
       "</style>\n",
       "<table border=\"1\" class=\"dataframe\">\n",
       "  <thead>\n",
       "    <tr style=\"text-align: right;\">\n",
       "      <th></th>\n",
       "      <th>open</th>\n",
       "      <th>high</th>\n",
       "      <th>low</th>\n",
       "      <th>close</th>\n",
       "      <th>volume</th>\n",
       "    </tr>\n",
       "    <tr>\n",
       "      <th>date</th>\n",
       "      <th></th>\n",
       "      <th></th>\n",
       "      <th></th>\n",
       "      <th></th>\n",
       "      <th></th>\n",
       "    </tr>\n",
       "  </thead>\n",
       "  <tbody>\n",
       "    <tr>\n",
       "      <td>2017-01-03</td>\n",
       "      <td>115.80</td>\n",
       "      <td>116.33</td>\n",
       "      <td>114.76</td>\n",
       "      <td>116.15</td>\n",
       "      <td>28781865</td>\n",
       "    </tr>\n",
       "    <tr>\n",
       "      <td>2017-01-04</td>\n",
       "      <td>115.85</td>\n",
       "      <td>116.51</td>\n",
       "      <td>115.75</td>\n",
       "      <td>116.02</td>\n",
       "      <td>21118116</td>\n",
       "    </tr>\n",
       "    <tr>\n",
       "      <td>2017-01-05</td>\n",
       "      <td>115.92</td>\n",
       "      <td>116.86</td>\n",
       "      <td>115.81</td>\n",
       "      <td>116.61</td>\n",
       "      <td>22193587</td>\n",
       "    </tr>\n",
       "    <tr>\n",
       "      <td>2017-01-06</td>\n",
       "      <td>116.78</td>\n",
       "      <td>118.16</td>\n",
       "      <td>116.47</td>\n",
       "      <td>117.91</td>\n",
       "      <td>31751900</td>\n",
       "    </tr>\n",
       "    <tr>\n",
       "      <td>2017-01-09</td>\n",
       "      <td>117.95</td>\n",
       "      <td>119.43</td>\n",
       "      <td>117.94</td>\n",
       "      <td>118.99</td>\n",
       "      <td>33561948</td>\n",
       "    </tr>\n",
       "  </tbody>\n",
       "</table>\n",
       "</div>"
      ],
      "text/plain": [
       "              open    high     low   close    volume\n",
       "date                                                \n",
       "2017-01-03  115.80  116.33  114.76  116.15  28781865\n",
       "2017-01-04  115.85  116.51  115.75  116.02  21118116\n",
       "2017-01-05  115.92  116.86  115.81  116.61  22193587\n",
       "2017-01-06  116.78  118.16  116.47  117.91  31751900\n",
       "2017-01-09  117.95  119.43  117.94  118.99  33561948"
      ]
     },
     "execution_count": 38,
     "metadata": {},
     "output_type": "execute_result"
    }
   ],
   "source": [
    "ticker = \"AAPL\"\n",
    "\n",
    "\n",
    "end_date = datetime.date(2018,12,31)\n",
    "start_date = datetime.date(2017, 1, 1)\n",
    "\n",
    "# Get 1 year's worth of historical data for AAPL\n",
    "df = get_historical_data(ticker, start_date, end_date,  output_format='pandas')\n",
    "df.head()"
   ]
  },
  {
   "cell_type": "code",
   "execution_count": 15,
   "metadata": {},
   "outputs": [],
   "source": [
    "import googlefinance\n",
    "import yahoofinancials"
   ]
  },
  {
   "cell_type": "code",
   "execution_count": 18,
   "metadata": {},
   "outputs": [],
   "source": [
    "from yahoofinancials import YahooFinancials\n",
    "\n",
    "ticker = 'AAPL'\n",
    "yahoo_financials = YahooFinancials(ticker)\n",
    "\n",
    "balance_sheet_data_qt = yahoo_financials.get_financial_stmts('quarterly', 'balance')\n",
    "income_statement_data_qt = yahoo_financials.get_financial_stmts('quarterly', 'income')\n",
    "all_statement_data_qt =  yahoo_financials.get_financial_stmts('quarterly', ['income', 'cash', 'balance'])\n",
    "apple_earnings_data = yahoo_financials.get_stock_earnings_data()\n",
    "apple_net_income = yahoo_financials.get_net_income()\n",
    "historical_stock_prices = yahoo_financials.get_historical_price_data('2008-09-15', '2018-09-15', 'daily')\n"
   ]
  },
  {
   "cell_type": "code",
   "execution_count": 41,
   "metadata": {},
   "outputs": [
    {
     "name": "stdout",
     "output_type": "stream",
     "text": [
      "                   SPY\n",
      "Date                  \n",
      "2005-01-03   89.905312\n",
      "2005-01-04   88.806694\n",
      "2005-01-05   88.193878\n",
      "2005-01-06   88.642288\n",
      "2005-01-07   88.515228\n",
      "...                ...\n",
      "2018-12-24  232.183060\n",
      "2018-12-26  243.914062\n",
      "2018-12-27  245.786697\n",
      "2018-12-28  245.469635\n",
      "2018-12-31  247.619644\n",
      "\n",
      "[3523 rows x 1 columns]\n"
     ]
    }
   ],
   "source": [
    "#\n",
    "# THIS IS WHAT WE CAN USE!!!!\n",
    "#\n",
    "#\n",
    "\n",
    "from pandas_datareader import data\n",
    "\n",
    "def\n",
    "df = data.DataReader('SPY', 'yahoo', '2005-01-01', '2018-12-31').filter(['Date','Adj Close'])\n",
    "df.rename(\n",
    "    columns={'Adj Close':'SPY'}, \n",
    "    inplace=True\n",
    ")\n",
    "print(df)"
   ]
  },
  {
   "cell_type": "code",
   "execution_count": 78,
   "metadata": {},
   "outputs": [],
   "source": [
    "def fetch_prices_as_df(ticker,start,end):\n",
    "    \"\"\" Fetch ticker adjusted closing prices for start-end date range\"\"\"\n",
    "    data.DataReader(ticker,'yahoo',start,end).filter(['Date','Adj Close'])\n",
    "    df.rename(columns={'Adj Close': ticker},inplace=True)\n",
    "    return df"
   ]
  },
  {
   "cell_type": "code",
   "execution_count": 79,
   "metadata": {},
   "outputs": [
    {
     "data": {
      "text/html": [
       "<div>\n",
       "<style scoped>\n",
       "    .dataframe tbody tr th:only-of-type {\n",
       "        vertical-align: middle;\n",
       "    }\n",
       "\n",
       "    .dataframe tbody tr th {\n",
       "        vertical-align: top;\n",
       "    }\n",
       "\n",
       "    .dataframe thead th {\n",
       "        text-align: right;\n",
       "    }\n",
       "</style>\n",
       "<table border=\"1\" class=\"dataframe\">\n",
       "  <thead>\n",
       "    <tr style=\"text-align: right;\">\n",
       "      <th></th>\n",
       "      <th>SPY</th>\n",
       "    </tr>\n",
       "    <tr>\n",
       "      <th>Date</th>\n",
       "      <th></th>\n",
       "    </tr>\n",
       "  </thead>\n",
       "  <tbody>\n",
       "    <tr>\n",
       "      <td>2005-01-03</td>\n",
       "      <td>89.905312</td>\n",
       "    </tr>\n",
       "    <tr>\n",
       "      <td>2005-01-04</td>\n",
       "      <td>88.806694</td>\n",
       "    </tr>\n",
       "    <tr>\n",
       "      <td>2005-01-05</td>\n",
       "      <td>88.193878</td>\n",
       "    </tr>\n",
       "    <tr>\n",
       "      <td>2005-01-06</td>\n",
       "      <td>88.642288</td>\n",
       "    </tr>\n",
       "    <tr>\n",
       "      <td>2005-01-07</td>\n",
       "      <td>88.515228</td>\n",
       "    </tr>\n",
       "    <tr>\n",
       "      <td>...</td>\n",
       "      <td>...</td>\n",
       "    </tr>\n",
       "    <tr>\n",
       "      <td>2018-12-24</td>\n",
       "      <td>232.183060</td>\n",
       "    </tr>\n",
       "    <tr>\n",
       "      <td>2018-12-26</td>\n",
       "      <td>243.914062</td>\n",
       "    </tr>\n",
       "    <tr>\n",
       "      <td>2018-12-27</td>\n",
       "      <td>245.786697</td>\n",
       "    </tr>\n",
       "    <tr>\n",
       "      <td>2018-12-28</td>\n",
       "      <td>245.469635</td>\n",
       "    </tr>\n",
       "    <tr>\n",
       "      <td>2018-12-31</td>\n",
       "      <td>247.619644</td>\n",
       "    </tr>\n",
       "  </tbody>\n",
       "</table>\n",
       "<p>3523 rows × 1 columns</p>\n",
       "</div>"
      ],
      "text/plain": [
       "                   SPY\n",
       "Date                  \n",
       "2005-01-03   89.905312\n",
       "2005-01-04   88.806694\n",
       "2005-01-05   88.193878\n",
       "2005-01-06   88.642288\n",
       "2005-01-07   88.515228\n",
       "...                ...\n",
       "2018-12-24  232.183060\n",
       "2018-12-26  243.914062\n",
       "2018-12-27  245.786697\n",
       "2018-12-28  245.469635\n",
       "2018-12-31  247.619644\n",
       "\n",
       "[3523 rows x 1 columns]"
      ]
     },
     "execution_count": 79,
     "metadata": {},
     "output_type": "execute_result"
    }
   ],
   "source": [
    "spy_df = fetch_prices_as_df('SPY','2005-01-01', '2018-12-31')\n",
    "spy_df"
   ]
  },
  {
   "cell_type": "code",
   "execution_count": 83,
   "metadata": {},
   "outputs": [],
   "source": [
    "def combine_dfs(original_df,new_df):\n",
    "    return pd.concat([original_df,new_df],axis=\"columns\", join=\"inner\")"
   ]
  },
  {
   "cell_type": "code",
   "execution_count": 88,
   "metadata": {},
   "outputs": [
    {
     "name": "stdout",
     "output_type": "stream",
     "text": [
      "                   SPY         SPY\n",
      "Date                              \n",
      "2005-01-03   89.905312   89.905312\n",
      "2005-01-04   88.806694   88.806694\n",
      "2005-01-05   88.193878   88.193878\n",
      "2005-01-06   88.642288   88.642288\n",
      "2005-01-07   88.515228   88.515228\n",
      "...                ...         ...\n",
      "2018-12-24  232.183060  232.183060\n",
      "2018-12-26  243.914062  243.914062\n",
      "2018-12-27  245.786697  245.786697\n",
      "2018-12-28  245.469635  245.469635\n",
      "2018-12-31  247.619644  247.619644\n",
      "\n",
      "[3523 rows x 2 columns]\n"
     ]
    }
   ],
   "source": [
    "tickers = ['SPY','AGG']\n",
    "start = '2005-01-01'\n",
    "end = '2018-12-31'\n",
    "\n",
    "big_daddy = None\n",
    "\n",
    "for ticker in tickers:\n",
    "    big_daddy = combine_dfs(big_daddy,fetch_prices_as_df(ticker,start,end))\n",
    "\n",
    "print(big_daddy)"
   ]
  },
  {
   "cell_type": "code",
   "execution_count": null,
   "metadata": {},
   "outputs": [],
   "source": []
  }
 ],
 "metadata": {
  "kernelspec": {
   "display_name": "Python 3",
   "language": "python",
   "name": "python3"
  },
  "language_info": {
   "codemirror_mode": {
    "name": "ipython",
    "version": 3
   },
   "file_extension": ".py",
   "mimetype": "text/x-python",
   "name": "python",
   "nbconvert_exporter": "python",
   "pygments_lexer": "ipython3",
   "version": "3.7.3"
  }
 },
 "nbformat": 4,
 "nbformat_minor": 4
}
